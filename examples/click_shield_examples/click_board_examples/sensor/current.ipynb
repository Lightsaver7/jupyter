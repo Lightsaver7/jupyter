{
 "cells": [
  {
   "cell_type": "markdown",
   "metadata": {},
   "source": [
    "# CURRENT CLICK \n",
    "\n",
    "## Libraries and FPGA image\n",
    "\n",
    "We will start by importing the *rp* (Red Pitaya) and *rp_overlay* libraries, loading the *v0.94* FPGA image, and initializing the Red Pitaya."
   ]
  },
  {
   "cell_type": "code",
   "execution_count": null,
   "metadata": {},
   "outputs": [],
   "source": [
    "import time\n",
    "from rp_overlay import overlay\n",
    "import rp\n",
    "\n",
    "# Initialize the FPGA overlay\n",
    "fpga = overlay()\n",
    "rp.rp_Init()"
   ]
  },
  {
   "cell_type": "markdown",
   "metadata": {},
   "source": [
    "## Macros\n",
    "Here is a complete list of macros that will come in handy when customising this notebook and operating the click shields.\n",
    "\n",
    "- **States** - RP_LOW, RP_HIGH\n",
    "- **Directions** - RP_IN, RP_OUT\n",
    "- **LEDs** - RP_LED0, RP_LED1, ..., RP_LED7\n",
    "- **DIOx_P** - RP_DIO0_P, RP_DIO1_P, ..., RP_DIO7_P &emsp;&emsp; *# Goes up to 9 on SDRlab and STEMlab 4-Input*\n",
    "- **DIOx_N** - RP_DIO0_N, RP_DIO1_N, ..., RP_DIO7_N &emsp;&thinsp; *# Goes up to 9 on SDRlab and STEMlab 4-Input*\n",
    "- **Analog outputs** - RP_AOUT0, RP_AOUT1, ..., RP_AOUT3\n",
    "- **Analog inputs** - RP_AIN0, RP_AIN1, ..., RP_AIN3\n",
    "\n",
    "### Click shield macros\n",
    "For easier work with the click shields, here are some macro rewrites. Marcos ending in \"1\" are on MicroBus1, and macros ending in \"2\" are on MicroBus2.\n",
    "\n",
    "- **AN1, AIN2** - RP_AIN0, RP_AIN1\n",
    "- **RST1, RST2** - RP_DIO2_N, RP_DIO4_N\n",
    "- **PWM1, PWM2** - RP_DIO1_P, RP_DIO3_P\n",
    "- **INT1, INT2** - RP_DIO2_P, RP_DIO4_P\n",
    "- **UART_SW** - RP_DIO5_N\n",
    "- **SPI_CS1, SPI_CS2** - RP_DIO1_N, RP_DIO3_N\n",
    "- **Logic analyser** - RP_DIO0_P, RP_DIO1_P, ..., RP_DIO7_P\n",
    "\n",
    "Setting up click shield macros:"
   ]
  },
  {
   "cell_type": "code",
   "execution_count": null,
   "metadata": {},
   "outputs": [],
   "source": [
    "AN1 = rp.RP_AIN0\n",
    "AN2 = rp.RP_AIN1\n",
    "RST1 = rp.RP_DIO2_N\n",
    "RST2 = rp.RP_DIO4_N\n",
    "PWM1 = rp.RP_DIO1_P\n",
    "PWM2 = rp.RP_DIO3_P\n",
    "INT1 = rp.RP_DIO2_P\n",
    "INT2 = rp.RP_DIO4_P\n",
    "UART_SW = rp.RP_DIO5_N\n",
    "SPI_CS1 = rp.RP_DIO1_N\n",
    "SPI_CS2 = rp.RP_DIO3_N\n",
    "\n",
    "# Reset analog pins\n",
    "rp.rp_ApinReset()\n",
    "\n",
    "AIN = AN1"
   ]
  },
  {
   "cell_type": "code",
   "execution_count": null,
   "metadata": {},
   "outputs": [],
   "source": [
    "def convert_to_engineering_unit(number, units):\n",
    "    magnitude = number\n",
    "    unit_index = 0\n",
    "\n",
    "    while magnitude <= 1.0 and unit_index < len(units) - 1:\n",
    "        magnitude *= 1000.0\n",
    "        unit_index += 1\n",
    "\n",
    "    print(\"Value: {:.4f} {} \\n\".format(magnitude, units[unit_index]))\n",
    "\n",
    "def get_current(pin, resistor_value):\n",
    "    # Get ADC value from the specified pin\n",
    "    value = rp.rp_ApinGetValue(pin)[1]\n",
    "    max_current = 3.3 / (20.0 * resistor_value)\n",
    "    print(\"Minimum current is 2mA, maximum is:\")\n",
    "    convert_to_engineering_unit(max_current, [\"A\", \"mA\", \"μA\", \"nA\"])\n",
    "\n",
    "    # Calculate current\n",
    "    voltage = value / 20.0\n",
    "    # gain of circuit is 20\n",
    "    current = voltage / resistor_value\n",
    "\n",
    "    return current\n",
    "\n",
    "def recommend_resistor(current):\n",
    "    if current != 0:\n",
    "        resistor = 0.075 / current\n",
    "        print(\"The recommended resistor value for best measurement (R) is {:.4f} ohms.\\n\".format(resistor))\n",
    "        return resistor\n",
    "    else:\n",
    "        print(\"Error: Current (I) cannot be zero.\\n\")\n",
    "        return -1\n",
    "        # Return -1 to indicate an error"
   ]
  },
  {
   "cell_type": "markdown",
   "metadata": {},
   "source": [
    "The example shows how to read the current through a shunt resistor. The program, however, does not know how many ohms your shunt resistor has. That is why the shunt resistor value must be input when prompted by the program. Also, the shunt resistor should be accurate to at least three decimals (for example, with a multimeter). That way, the current measurement will be most accurate.\n",
    "\n",
    "Refrain from going above or below the minimum and maximum current measurement.\n",
    "\n",
    "For best measurements, please use the recommended resistor."
   ]
  },
  {
   "cell_type": "code",
   "execution_count": null,
   "metadata": {},
   "outputs": [],
   "source": [
    "while True:\n",
    "    print(\"Enter shunt resistor value in Ohms: \")\n",
    "    # circuit 5 ohms\n",
    "    resistor_value = float(input())\n",
    "    current = get_current(AIN, resistor_value)\n",
    "\n",
    "    convert_to_engineering_unit(current, [\"A\", \"mA\", \"μA\", \"nA\"])\n",
    "    recommend_resistor(current)\n",
    "    time.sleep(1)"
   ]
  },
  {
   "cell_type": "code",
   "execution_count": null,
   "metadata": {},
   "outputs": [],
   "source": [
    "# Release resources\n",
    "rp.rp_Release()"
   ]
  }
 ],
 "metadata": {
  "language_info": {
   "name": "python"
  },
  "orig_nbformat": 4
 },
 "nbformat": 4,
 "nbformat_minor": 2
}
