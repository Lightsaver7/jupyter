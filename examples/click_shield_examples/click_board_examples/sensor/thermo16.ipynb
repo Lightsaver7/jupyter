{
 "cells": [
  {
   "cell_type": "markdown",
   "metadata": {},
   "source": [
    "# THERMO 16 CLICK \n",
    "\n",
    "**Setup code**\n",
    "\n",
    "Imports the Mercury overlay from the Red Pitaya library and gives it an alias \"FPGA\". Creates an object called \"overlay\" which represents the Mercury overlay on the Red Pitaya board."
   ]
  },
  {
   "cell_type": "code",
   "execution_count": null,
   "metadata": {},
   "outputs": [],
   "source": [
    "from redpitaya.overlay.mercury import mercury as FPGA\n",
    "import time\n",
    "\n",
    "# Initialize the FPGA overlay\n",
    "overlay = FPGA()\n",
    "\n",
    "mikrobus1AnPin = FPGA.analog_in(0)\n",
    "mikrobus2AnPin = FPGA.analog_in(1)\n",
    "print('Measured voltage on Analog input pin 0 is {:.2f} V'.format(mikrobus1AnPin.read()))\n",
    "\n",
    "def get_average_temperature():\n",
    "    values = []\n",
    "    sum = 0.0\n",
    "    for i in range(0, 30):\n",
    "        # read analog input value from Red Pitaya\n",
    "        values.append(mikrobus1AnPin.read())\n",
    "        sum += values[i]\n",
    "        time.sleep(0.05)\n",
    "    average = sum / 30.0\n",
    "    return (average -0.53) * 100.0\n",
    "    # TEMP_IN_CELSIUS;\n",
    "    # standard deviation = ABSOLUTE MISTAKE / Sqrt(3) = 1,25 °C / Sqrt(3) = 0.72 °C\n",
    "    # with 68% certainty\n",
    "    # uncertainty due to repeated measurements can be disregarded"
   ]
  },
  {
   "cell_type": "markdown",
   "metadata": {},
   "source": [
    "The example shows how to measure temperature. If the Thermo16 Click Board is too close to the Red Pitaya (directly mounted on the Click Shield), the measurements can be affected by the heat the Red Pitaya produces."
   ]
  },
  {
   "cell_type": "code",
   "execution_count": null,
   "metadata": {},
   "outputs": [],
   "source": [
    "temperature =  get_average_temperature()\n",
    "correction= -9.0 \n",
    "# ADD A  DIFFRENT CORRECTION IF NECESSARY;\n",
    "temperature = temperature + correction\n",
    "\n",
    "print(\"Measured TEMP_IN_KELVIN = {:.4f}°C +- 0.72°C \\n\".format(temperature + 273.15))\n",
    "print(\"Measured TEMP_IN_FARENHEIT = {:.4f}°F +- 1.3°F \\n\".format((temperature * 9.0/5.0) + 32.0))\n",
    "print(\"Measured TEMP_IN_CELSIUS = {:.4f}°C +- 0.72°C\\n\".format(temperature))"
   ]
  }
 ],
 "metadata": {
  "language_info": {
   "name": "python"
  },
  "orig_nbformat": 4
 },
 "nbformat": 4,
 "nbformat_minor": 2
}
