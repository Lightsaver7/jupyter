{
 "cells": [
  {
   "cell_type": "markdown",
   "metadata": {},
   "source": [
    "# THERMO 16 CLICK \n",
    "\n",
    "## Libraries and FPGA image\n",
    "\n",
    "We will start by importing the *rp* (Red Pitaya) and *rp_overlay* libraries, loading the *v0.94* FPGA image, and initializing the Red Pitaya."
   ]
  },
  {
   "cell_type": "code",
   "execution_count": null,
   "metadata": {},
   "outputs": [],
   "source": [
    "import time\n",
    "from rp_overlay import overlay\n",
    "import rp\n",
    "\n",
    "# Initialize the FPGA overlay\n",
    "fpga = overlay()\n",
    "rp.rp_Init()"
   ]
  },
  {
   "cell_type": "markdown",
   "metadata": {},
   "source": [
    "## Macros\n",
    "Here is a complete list of macros that will come in handy when customising this notebook and operating the click shields.\n",
    "\n",
    "- **States** - RP_LOW, RP_HIGH\n",
    "- **Directions** - RP_IN, RP_OUT\n",
    "- **LEDs** - RP_LED0, RP_LED1, ..., RP_LED7\n",
    "- **DIOx_P** - RP_DIO0_P, RP_DIO1_P, ..., RP_DIO7_P &emsp;&emsp; *# Goes up to 9 on SDRlab and STEMlab 4-Input*\n",
    "- **DIOx_N** - RP_DIO0_N, RP_DIO1_N, ..., RP_DIO7_N &emsp;&thinsp; *# Goes up to 9 on SDRlab and STEMlab 4-Input*\n",
    "- **Analog outputs** - RP_AOUT0, RP_AOUT1, ..., RP_AOUT3\n",
    "- **Analog inputs** - RP_AIN0, RP_AIN1, ..., RP_AIN3\n",
    "\n",
    "### Click shield macros\n",
    "For easier work with the click shields, here are some macro rewrites. Marcos ending in \"1\" are on MicroBus1, and macros ending in \"2\" are on MicroBus2.\n",
    "\n",
    "- **AN1, AIN2** - RP_AIN0, RP_AIN1\n",
    "- **RST1, RST2** - RP_DIO2_N, RP_DIO4_N\n",
    "- **PWM1, PWM2** - RP_DIO1_P, RP_DIO3_P\n",
    "- **INT1, INT2** - RP_DIO2_P, RP_DIO4_P\n",
    "- **UART_SW** - RP_DIO5_N\n",
    "- **SPI_CS1, SPI_CS2** - RP_DIO1_N, RP_DIO3_N\n",
    "- **Logic analyser** - RP_DIO0_P, RP_DIO1_P, ..., RP_DIO7_P\n",
    "\n",
    "Setting up click shield macros:"
   ]
  },
  {
   "cell_type": "code",
   "execution_count": null,
   "metadata": {},
   "outputs": [],
   "source": [
    "AN1 = rp.RP_AIN0\n",
    "AN2 = rp.RP_AIN1\n",
    "RST1 = rp.RP_DIO2_N\n",
    "RST2 = rp.RP_DIO4_N\n",
    "PWM1 = rp.RP_DIO1_P\n",
    "PWM2 = rp.RP_DIO3_P\n",
    "INT1 = rp.RP_DIO2_P\n",
    "INT2 = rp.RP_DIO4_P\n",
    "UART_SW = rp.RP_DIO5_N\n",
    "SPI_CS1 = rp.RP_DIO1_N\n",
    "SPI_CS2 = rp.RP_DIO3_N\n",
    "\n",
    "# Reset analog pins\n",
    "rp.rp_ApinReset()\n",
    "\n",
    "AIN = AN1"
   ]
  },
  {
   "cell_type": "code",
   "execution_count": null,
   "metadata": {},
   "outputs": [],
   "source": [
    "print(f\"Measured voltage on Analog pin is {rp.rp_ApinGetValue(AIN)[1]:.2f} V\\n\")\n",
    "\n",
    "def get_average_temperature():\n",
    "    values = []\n",
    "    sum = 0.0\n",
    "    for i in range(0, 30):\n",
    "        # read analog input value from Red Pitaya\n",
    "        values.append(rp.rp_ApinGetValue(AIN)[1])\n",
    "        sum += values[i]\n",
    "        time.sleep(0.05)\n",
    "    average = sum / 30.0\n",
    "    return (average -0.53) * 100.0\n",
    "\n",
    "    # TEMP_IN_CELSIUS;\n",
    "    # standard deviation = ABSOLUTE MISTAKE / Sqrt(3) = 1,25 °C / Sqrt(3) = 0.72 °C\n",
    "    # with 68% certainty\n",
    "    # uncertainty due to repeated measurements can be disregarded"
   ]
  },
  {
   "cell_type": "markdown",
   "metadata": {},
   "source": [
    "The example shows how to measure temperature. If the Thermo16 Click Board is too close to the Red Pitaya (directly mounted on the Click Shield), the temperature measurements can be affected by the Red Pitaya's heating."
   ]
  },
  {
   "cell_type": "code",
   "execution_count": null,
   "metadata": {},
   "outputs": [],
   "source": [
    "temperature =  get_average_temperature()\n",
    "correction= -9.0 \n",
    "# ADD A  DIFFRENT CORRECTION IF NECESSARY;\n",
    "temperature = temperature + correction\n",
    "\n",
    "print(f\"Measured TEMP_IN_KELVIN = {temperature + 273.15:.4f}°C +- 0.72°C \\n\")\n",
    "print(f\"Measured TEMP_IN_FARENHEIT = {(temperature * 9.0/5.0) + 32.0:.4f}°F +- 1.3°F \\n\")\n",
    "print(f\"Measured TEMP_IN_CELSIUS = {temperature:.4f}°C +- 0.72°C\\n\")\n",
    "\n",
    "# Release resources\n",
    "rp.rp_Release()"
   ]
  }
 ],
 "metadata": {
  "language_info": {
   "name": "python"
  },
  "orig_nbformat": 4
 },
 "nbformat": 4,
 "nbformat_minor": 2
}
