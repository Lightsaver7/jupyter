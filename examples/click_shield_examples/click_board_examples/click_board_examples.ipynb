{
 "cells": [
  {
   "cell_type": "markdown",
   "id": "0595ebb4-5223-4f51-9da4-41d443f626d7",
   "metadata": {},
   "source": [
    "## Welcome to Jupyter Notebook Click Borad examples for STEMlab\n",
    "\n",
    "Jupyter notebooks contain Python code which provides access to STEMlab hardware. Below you can find a few examples of how to control [MirkoE Click Boards](https://www.mikroe.com/) through your Red Pitaya with the [Click Shield](https://redpitaya.readthedocs.io/en/latest/developerGuide/hardware/ext_modules/click_shield.html#click-shield).\n",
    "\n",
    "A basic Python tutorial [A Whirlwind Tour of Python](../WhirlwindTourOfPython/Index.ipynb) is provided (copied [from Jake Vanderplas on GitHub](https://github.com/jakevdp/WhirlwindTourOfPython)).\n",
    "\n",
    "To execute a cell click on it to change focus, and press the run button (⏵) above or press the key combination `Shift+Enter`."
   ]
  },
  {
   "cell_type": "markdown",
   "id": "f462a81a-b397-4976-9340-192770719809",
   "metadata": {},
   "source": [
    "1. **Basic:**\n",
    "    1. [Button G Click](basic/buttonG.ipynb)\n",
    "    0. [Capacitive Touch Click](basic/cap_touch.ipynb)\n",
    "    0. [Relay Click](basic/relay.ipynb)\n",
    "0. **Sensors:**\n",
    "    1. [Current Click](sensor/current.ipynb)\n",
    "    0. [Light Click](sensor/light.ipynb)\n",
    "    0. [Motion Click](sensor/motion.ipynb)\n",
    "    0. [Thermo 16 Click](sensor/thermo16.ipynb)\n",
    "0. **Motors:**\n",
    "    1. [DC Motor 2 Click](motor/dc_motor2.ipynb)\n",
    "    0. [Vibro Motor Click](motor/vibro_motor.ipynb)\n",
    "0. **Data:**\n",
    "    1. *Under construction...*\n"
   ]
  }
 ],
 "metadata": {
  "kernelspec": {
   "display_name": "Python 3 (ipykernel)",
   "language": "python",
   "name": "python3"
  },
  "language_info": {
   "codemirror_mode": {
    "name": "ipython",
    "version": 3
   },
   "file_extension": ".py",
   "mimetype": "text/x-python",
   "name": "python",
   "nbconvert_exporter": "python",
   "pygments_lexer": "ipython3",
   "version": "3.10.12"
  }
 },
 "nbformat": 4,
 "nbformat_minor": 5
}
