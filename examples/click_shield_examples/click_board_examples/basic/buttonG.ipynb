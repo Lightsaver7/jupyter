{
 "cells": [
  {
   "cell_type": "markdown",
   "metadata": {},
   "source": [
    "# BUTTON G CLICK \n",
    "\n",
    "## Libraries and FPGA image\n",
    "\n",
    "We will start by importing the *rp* (Red Pitaya) and *rp_overlay* libraries, loading the *v0.94* FPGA image, and initializing the Red Pitaya."
   ]
  },
  {
   "cell_type": "code",
   "execution_count": null,
   "metadata": {},
   "outputs": [],
   "source": [
    "import time\n",
    "from rp_overlay import overlay\n",
    "import rp\n",
    "\n",
    "# Initialize the FPGA overlay\n",
    "fpga = overlay()\n",
    "rp.rp_Init()"
   ]
  },
  {
   "cell_type": "markdown",
   "metadata": {},
   "source": [
    "## Macros\n",
    "Here is a complete list of macros that will come in handy when customising this notebook and operating the click shields.\n",
    "\n",
    "- **States** - RP_LOW, RP_HIGH\n",
    "- **Directions** - RP_IN, RP_OUT\n",
    "- **LEDs** - RP_LED0, RP_LED1, ..., RP_LED7\n",
    "- **DIOx_P** - RP_DIO0_P, RP_DIO1_P, ..., RP_DIO7_P &emsp;&emsp; *# Goes up to 9 on SDRlab and STEMlab 4-Input*\n",
    "- **DIOx_N** - RP_DIO0_N, RP_DIO1_N, ..., RP_DIO7_N &emsp;&thinsp; *# Goes up to 9 on SDRlab and STEMlab 4-Input*\n",
    "- **Analog outputs** - RP_AOUT0, RP_AOUT1, ..., RP_AOUT3\n",
    "- **Analog inputs** - RP_AIN0, RP_AIN1, ..., RP_AIN3\n",
    "\n",
    "### Click shield macros\n",
    "For easier work with the click shields, here are some macro rewrites. Marcos ending in \"1\" are on MicroBus1, and macros ending in \"2\" are on MicroBus2.\n",
    "\n",
    "- **AN1, AIN2** - RP_AIN0, RP_AIN1\n",
    "- **RST1, RST2** - RP_DIO2_N, RP_DIO4_N\n",
    "- **PWM1, PWM2** - RP_DIO1_P, RP_DIO3_P\n",
    "- **INT1, INT2** - RP_DIO2_P, RP_DIO4_P\n",
    "- **UART_SW** - RP_DIO5_N\n",
    "- **SPI_CS1, SPI_CS2** - RP_DIO1_N, RP_DIO3_N\n",
    "- **Logic analyser** - RP_DIO0_P, RP_DIO1_P, ..., RP_DIO7_P\n",
    "\n",
    "Setting up click shield macros:"
   ]
  },
  {
   "cell_type": "code",
   "execution_count": null,
   "metadata": {},
   "outputs": [],
   "source": [
    "AN1 = rp.RP_AIN0\n",
    "AN2 = rp.RP_AIN1\n",
    "RST1 = rp.RP_DIO2_N\n",
    "RST2 = rp.RP_DIO4_N\n",
    "PWM1 = rp.RP_DIO1_P\n",
    "PWM2 = rp.RP_DIO3_P\n",
    "INT1 = rp.RP_DIO2_P\n",
    "INT2 = rp.RP_DIO4_P\n",
    "UART_SW = rp.RP_DIO5_N\n",
    "SPI_CS1 = rp.RP_DIO1_N\n",
    "SPI_CS2 = rp.RP_DIO3_N"
   ]
  },
  {
   "cell_type": "code",
   "execution_count": null,
   "metadata": {},
   "outputs": [],
   "source": [
    "# Set the direction of mikrobus pins\n",
    "rp.rp_DpinSetDirection(PWM1, rp.RP_OUT)\n",
    "rp.rp_DpinSetDirection(PWM2, rp.RP_OUT)\n",
    "rp.rp_DpinSetDirection(INT1, rp.RP_IN)\n",
    "rp.rp_DpinSetDirection(INT2, rp.RP_IN)"
   ]
  },
  {
   "cell_type": "markdown",
   "metadata": {},
   "source": [
    "If the G button is pressed on the click board, an LED on the Red Pitaya and the LED inside the G button are turned ON."
   ]
  },
  {
   "cell_type": "code",
   "execution_count": null,
   "metadata": {},
   "outputs": [],
   "source": [
    "while True:\n",
    "    state = int(rp.rp_DpinGetState(INT1)[1])\n",
    "    if state:\n",
    "        rp.rp_DpinSetState(rp.RP_LED0, rp.RP_HIGH)\n",
    "        rp.rp_DpinSetState(PWM1, rp.RP_HIGH)\n",
    "    else:\n",
    "        rp.rp_DpinSetState(rp.RP_LED0, rp.RP_LOW)\n",
    "        rp.rp_DpinSetState(PWM1, rp.RP_LOW)"
   ]
  },
  {
   "cell_type": "code",
   "execution_count": null,
   "metadata": {},
   "outputs": [],
   "source": [
    "# Release resources\n",
    "rp.rp_Release()"
   ]
  }
 ],
 "metadata": {
  "language_info": {
   "name": "python"
  },
  "orig_nbformat": 4
 },
 "nbformat": 4,
 "nbformat_minor": 2
}
