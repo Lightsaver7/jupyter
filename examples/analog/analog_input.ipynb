{
 "cells": [
  {
   "cell_type": "markdown",
   "metadata": {},
   "source": [
    "# Slow Analog Inputs\n",
    "\n",
    "Slow analog inputs provide a convenient way to acquire slow-changing analog signals.\n",
    "All four analog inputs are located on the E2 connector, depicted in the picture below, and can measure voltages between 0 V and 3.5 V.\n",
    "\n",
    "![alt text](../img/Extension_connector.png \"STEMlab extention connector.\")"
   ]
  },
  {
   "cell_type": "markdown",
   "metadata": {},
   "source": [
    "## Libraries and FPGA image\n",
    "\n",
    "We will start by importing the *rp* (Red Pitaya) and *rp_overlay* libraries, loading the *v0.94* FPGA image, and initializing the Red Pitaya."
   ]
  },
  {
   "cell_type": "code",
   "execution_count": null,
   "metadata": {},
   "outputs": [],
   "source": [
    "from rp_overlay import overlay\n",
    "import rp\n",
    "\n",
    "fpga = overlay()\n",
    "rp.rp_Init()"
   ]
  },
  {
   "cell_type": "markdown",
   "metadata": {},
   "source": [
    "## Macros\n",
    "Throughout this tutorial we will mention macros multiple times. Here is a complete list of analog macros that will come in handy when customising this notebook. The marcos are a part of the **rp** library.\n",
    "\n",
    "- **Analog outputs** - RP_AOUT0, RP_AOUT1, ..., RP_AOUT3\n",
    "- **Analog inputs** - RP_AIN0, RP_AIN1, ..., RP_AIN3"
   ]
  },
  {
   "cell_type": "markdown",
   "metadata": {},
   "source": [
    "## Controling Analog Inputs\n",
    "The analog inputs can be read in two different ways; either get the value in Volts or get a RAW value directly from the ADC. Analog input numbers range from 0 to 3.\n",
    "\n",
    "### Reading value in Volts\n",
    "- **rp_AIpinGetValue(analog_input_number)**\n",
    "- **rp_ApinGetValue(analog_input_macro)**\n",
    "\n",
    "### Reading RAW value\n",
    "- **rp_AIpinGetValueRaw(analog_input_number)**\n",
    "- **rp_ApinGetValueRaw(analog_input_macro)**\n",
    "\n",
    "### Reading analog input range\n",
    "To get the analog input range use the following function:\n",
    "- **rp_ApinGetRange(analog_pin_macro)**\n",
    "\n",
    "### Reseting analog pins\n",
    "To reset all analog pins to their default state (output 0 V) use:\n",
    "- **rp_ApinReset()**\n"
   ]
  },
  {
   "cell_type": "markdown",
   "metadata": {},
   "source": [
    "First we reset all the analog pins."
   ]
  },
  {
   "cell_type": "code",
   "execution_count": null,
   "metadata": {},
   "outputs": [],
   "source": [
    "rp.rp_ApinReset()"
   ]
  },
  {
   "cell_type": "markdown",
   "metadata": {},
   "source": [
    "Next, we will read the value on the slow **Analog input 0** and print the value using both options:"
   ]
  },
  {
   "cell_type": "code",
   "execution_count": null,
   "metadata": {},
   "outputs": [],
   "source": [
    "print(f\"Analog input 0: {rp.rp_AIpinGetValue(0)[1]} V\")               # Specifying the pin value (0, 1, 2, or 3)\n",
    "print(f\"Analog input 0: {rp.rp_ApinGetValue(rp.RP_AIN0)[1]} V\")       # Specifying the pin with a Macro"
   ]
  },
  {
   "cell_type": "markdown",
   "metadata": {},
   "source": [
    "You also have an option to get the RAW value form the internal ADC:"
   ]
  },
  {
   "cell_type": "code",
   "execution_count": null,
   "metadata": {},
   "outputs": [],
   "source": [
    "print(f\"Analog input 0 RAW value: {rp.rp_AIpinGetValueRaw(0)[1]}\")\n",
    "print(f\"Analog input 0 RAW value: {rp.rp_ApinGetValueRaw(rp.RP_AIN0)[1]}\")"
   ]
  },
  {
   "cell_type": "markdown",
   "metadata": {},
   "source": [
    "Using the Python f-strings, we can also format the output, so that only 2 decimal places are displayed."
   ]
  },
  {
   "cell_type": "code",
   "execution_count": null,
   "metadata": {},
   "outputs": [],
   "source": [
    "print(f\"Analog input 0 value: {rp.rp_ApinGetValue(rp.RP_AIN0)[1]:.2f}\")"
   ]
  },
  {
   "cell_type": "markdown",
   "metadata": {},
   "source": [
    "## Reading all 4 Analog inputs\n",
    "\n",
    "Here, we use a *for* loop to read the values from all four channels with the same formatting as in the previous example."
   ]
  },
  {
   "cell_type": "code",
   "execution_count": null,
   "metadata": {},
   "outputs": [],
   "source": [
    "for i in range(0,4):\n",
    "    print(f\"Analog input {i}: {rp.rp_AIpinGetValue(i)[1]:.2f} V\")"
   ]
  },
  {
   "cell_type": "markdown",
   "metadata": {},
   "source": [
    "Finaly, at the end of the program, we should always release the used resources. Execute the following cell."
   ]
  },
  {
   "cell_type": "code",
   "execution_count": null,
   "metadata": {},
   "outputs": [],
   "source": [
    "rp.rp_Release()"
   ]
  },
  {
   "cell_type": "markdown",
   "metadata": {},
   "source": [
    "## Logging and plotting live data\n",
    "\n",
    "In this example, we will measure all four analog inputs every 0.5 s. The data will be stored in a list `y` and visualized with BokehJS."
   ]
  },
  {
   "cell_type": "markdown",
   "metadata": {},
   "source": [
    "### Generate data\n",
    "\n",
    "For data generation, we will use Jupyter's ability to run more than one notebook simultaneously. However, before we do that, we will have to manually connect the output pins to the input pins, as depicted in the picture below.\n",
    "\n",
    "![analog Loop Back](img/analogLoopBack.png \"STEMlab slow analog loop back.\")\n",
    "\n",
    "\n",
    "Now that we have created a physical loopback, open the [analog signal generator](analog_signal_generator.ipynb) notebook, run all the cells, and then return to this notebook. This will start an infinite loop that generates sine signals on all four analog outputs with different amplitudes.\n",
    "\n",
    "**Note:**  \n",
    "We do not recommend running more than four notebooks simultaneously due to limited resources on STEMlab."
   ]
  },
  {
   "cell_type": "markdown",
   "metadata": {},
   "source": [
    "Since we want to take measurements every 0.01 seconds, we need to import a time module and, to be able to plot data, import a few modules from Bokeh."
   ]
  },
  {
   "cell_type": "code",
   "execution_count": null,
   "metadata": {},
   "outputs": [],
   "source": [
    "import time\n",
    "import numpy as np\n",
    "import rp\n",
    "\n",
    "from bokeh.io import push_notebook, show, output_notebook\n",
    "from bokeh.models import HoverTool, Range1d\n",
    "from bokeh.plotting import figure\n",
    "from bokeh.resources import INLINE\n",
    "output_notebook(resources=INLINE)\n",
    "\n",
    "rp.rp_Init()"
   ]
  },
  {
   "cell_type": "markdown",
   "metadata": {},
   "source": [
    "Next, we will prepare the parameters of the plot, such as line colours, axis labels, etc.\n",
    "\n",
    "We will also prepare an empty plot to populate with the next cell."
   ]
  },
  {
   "cell_type": "code",
   "execution_count": null,
   "metadata": {},
   "outputs": [],
   "source": [
    "colors = ('red', 'blue', 'green', 'orange')\n",
    "hover = HoverTool(mode= 'vline', tooltips= [(\"T\", \"@x\"), (\"V\", \"@y\")])\n",
    "tools = \"pan,wheel_zoom,box_zoom,reset,crosshair\"\n",
    "p = figure(height= 400, width= 900, title= \"XADC log\", toolbar_location= \"above\", tools= (tools, hover))\n",
    "p.xaxis.axis_label='time [s]'\n",
    "p.y_range = Range1d(0, 2)\n",
    "p.yaxis.axis_label = 'voltage [V]'\n",
    "\n",
    "T = 0.01        # sampling period\n",
    "STEPS = 60\n",
    "INIT_VAL = np.zeros(STEPS)\n",
    "x = np.linspace(0, STEPS * T, num= STEPS)\n",
    "y = [np.full(STEPS, INIT_VAL, dtype= float), np.full(STEPS, INIT_VAL, dtype= float), np.full(STEPS, INIT_VAL, dtype= float), np.full(STEPS, INIT_VAL, dtype= float)]\n",
    "\n",
    "\n",
    "r = [p.line(x, y[ch], line_width=1, line_alpha=0.7, color=colors[ch], legend_label=f\"AI {ch}\") for ch in range(0,4)]\n",
    "\n",
    "\n",
    "# get an explicit handle to update the next show cell with\n",
    "target = show(p, notebook_handle=True)"
   ]
  },
  {
   "cell_type": "markdown",
   "metadata": {},
   "source": [
    "Here, we will start sampling Analog inputs while also populating the plot. While the sampling rate is set to 2 samples per second, the actual sampling rate is lower as we use the sleep function to delay the sampling by 2 seconds. However, we update the plot in the same loop, which takes some time since the sampling rate is lower."
   ]
  },
  {
   "cell_type": "code",
   "execution_count": null,
   "metadata": {},
   "outputs": [],
   "source": [
    "for i in range(STEPS):\n",
    "    for ch in range(0,4):\n",
    "        y = r[ch].data_source.data['y']\n",
    "        y[i] = rp.rp_AIpinGetValue(ch)[1]\n",
    "        r[ch].data_source.data['y'] = y \n",
    "    \n",
    "    # Push updates to the plot continuously using the handle (interrupt the notebook kernel to stop)\n",
    "    push_notebook(handle=target)\n",
    "    time.sleep(T)"
   ]
  },
  {
   "cell_type": "markdown",
   "metadata": {},
   "source": [
    "Releasing resources:"
   ]
  },
  {
   "cell_type": "code",
   "execution_count": null,
   "metadata": {},
   "outputs": [],
   "source": [
    "rp.rp_Release()"
   ]
  }
 ],
 "metadata": {
  "kernelspec": {
   "display_name": "Python 3",
   "language": "python",
   "name": "python3"
  },
  "language_info": {
   "codemirror_mode": {
    "name": "ipython",
    "version": 3
   },
   "file_extension": ".py",
   "mimetype": "text/x-python",
   "name": "python",
   "nbconvert_exporter": "python",
   "pygments_lexer": "ipython3",
   "version": "3.5.2"
  }
 },
 "nbformat": 4,
 "nbformat_minor": 2
}
