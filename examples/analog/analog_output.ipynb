{
 "cells": [
  {
   "cell_type": "markdown",
   "metadata": {},
   "source": [
    "# Slow Analog Outputs \n",
    "\n",
    "Slow analog outputs provide a convenient way to generate output voltage from 0 to 1.8 V.\n",
    "\n",
    "There are four analog outputs on the E2 connector depicted in the picture below.\n",
    "\n",
    "![alt text](../img/RedPitaya_pinout.jpg \"STEMlab extention connector.\")"
   ]
  },
  {
   "cell_type": "markdown",
   "metadata": {},
   "source": [
    "## Libraries\n",
    "\n",
    "We will start by importing the *rp* (Red Pitaya) library and initializing the Red Pitaya."
   ]
  },
  {
   "cell_type": "code",
   "execution_count": null,
   "metadata": {
    "collapsed": true
   },
   "outputs": [],
   "source": [
    "import rp\n",
    "\n",
    "rp.rp_Init()"
   ]
  },
  {
   "cell_type": "markdown",
   "metadata": {},
   "source": [
    "## Macros\n",
    "Throughout this tutorial we will mention macros multiple times. Here is a complete list of analog macros that will come in handy when customising this notebook. The marcos are a part of the **rp** library.\n",
    "\n",
    "- **Analog outputs** - RP_AOUT0, RP_AOUT1, ..., RP_AOUT3\n",
    "- **Analog inputs** - RP_AIN0, RP_AIN1, ..., RP_AIN3"
   ]
  },
  {
   "cell_type": "markdown",
   "metadata": {},
   "source": [
    "## Controling Analog Outputs\n",
    "The analog outputs can be contolled in two different ways; either specify the value in Volts or the RAW DAC value directly. Analog output numbers range from 0 to 3.\n",
    "\n",
    "### Setting value in Volts\n",
    "- **rp_AOpinSetValue(analog_output_number, value)**\n",
    "- **rp_ApinSetValue(analog_output_macro, value)**\n",
    "\n",
    "### Setting RAW value\n",
    "- **rp_AOpinSetValueRaw(analog_output_number, raw_value)**\n",
    "- **rp_ApinSetValueRaw(analog_input_macro, raw_value)**\n",
    "\n",
    "### Getting current output value in Volts\n",
    "- **rp_AOpinGetValue(analog_output_number)**\n",
    "- **rp_ApinGetValue(analog_output_macro)**\n",
    "\n",
    "### Getting current output RAW value\n",
    "- **rp_AOpinGetValueRaw(analog_output_number)**\n",
    "- **rp_ApinGetValueRaw(analog_input_macro)**\n",
    "\n",
    "### Reading analog output range\n",
    "To get the analog output range use the following function:\n",
    "- **rp_AOpinGetRange(analog_out_number)**\n",
    "- **rp_ApinGetRange(analog_pin_macro)**\n",
    "\n",
    "### Reseting analog pins\n",
    "To reset all analog pins to their default state (output 0 V) use:\n",
    "- **rp_AOpinReset()**\n",
    "- **rp_ApinReset()**"
   ]
  },
  {
   "cell_type": "markdown",
   "metadata": {},
   "source": [
    "First we will reset all analog pins."
   ]
  },
  {
   "cell_type": "code",
   "execution_count": null,
   "metadata": {},
   "outputs": [],
   "source": [
    "rp.rp_ApinReset()"
   ]
  },
  {
   "cell_type": "markdown",
   "metadata": {},
   "source": [
    "Next, lets set *Analog output 0* and *AOUT1* to 1 V and 1.5 V respectively."
   ]
  },
  {
   "cell_type": "code",
   "execution_count": null,
   "metadata": {},
   "outputs": [],
   "source": [
    "rp.rp_ApinSetValue(rp.RP_AOUT0, 1)\n",
    "rp.rp_AOpinSetValue(1, 1.5)"
   ]
  },
  {
   "cell_type": "markdown",
   "metadata": {},
   "source": [
    "Releasing resources:"
   ]
  },
  {
   "cell_type": "code",
   "execution_count": null,
   "metadata": {},
   "outputs": [],
   "source": [
    "rp.rp_Release()"
   ]
  },
  {
   "cell_type": "markdown",
   "metadata": {},
   "source": [
    "## Analog Signal Generator\n",
    "This example is the analog signal generator for the [analog input](analog_input.ipynb) live data plotting.\n",
    "\n",
    "The measurements on the slow analog inputs are taken every 10 milliseconds. Hence, we need to generate new data samples at the same rate. We will use the *time* module to delay the data generation and import *numpy* to generate a sine wave.\n"
   ]
  },
  {
   "cell_type": "code",
   "execution_count": null,
   "metadata": {},
   "outputs": [],
   "source": [
    "import time\n",
    "import numpy as np\n",
    "import rp\n",
    "\n",
    "rp.rp_Init()"
   ]
  },
  {
   "cell_type": "markdown",
   "metadata": {},
   "source": [
    "Here, we will configure the number of channels (4) and define the amplitudes. Note that the analog outputs only accept values from 0 to 1.8V, so we have to offset our signals to $\\frac{1.8V} { 2 } = 0.9V $.\n",
    "\n",
    "Then, we will start an infinite loop that will generate sinuses on the analog outputs. \n",
    "To stop execution:\n",
    "- Press the (∎) button above or \n",
    "- Click outside, to the left of the cell, but inside of the green rectangle, so it turns green, which will invoke Jupyter's command mode and press the *I* key twice."
   ]
  },
  {
   "cell_type": "code",
   "execution_count": null,
   "metadata": {},
   "outputs": [],
   "source": [
    "chn = 4\n",
    "amp = (0.25, 0.35, 0.4, 0.8)\n",
    "\n",
    "while True:\n",
    "    for i in range(40):\n",
    "        for ch in range(0, chn):\n",
    "            rp.rp_AOpinSetValue(ch, 0.9 + amp[ch] * np.sin(i * np.pi / 20) )\n",
    "            time.sleep(0.01)"
   ]
  },
  {
   "cell_type": "markdown",
   "metadata": {},
   "source": [
    "Releasing resources:"
   ]
  },
  {
   "cell_type": "code",
   "execution_count": null,
   "metadata": {},
   "outputs": [],
   "source": [
    "rp.rp_Release()"
   ]
  }
 ],
 "metadata": {
  "kernelspec": {
   "display_name": "Python 3",
   "language": "python",
   "name": "python3"
  },
  "language_info": {
   "codemirror_mode": {
    "name": "ipython",
    "version": 3
   },
   "file_extension": ".py",
   "mimetype": "text/x-python",
   "name": "python",
   "nbconvert_exporter": "python",
   "pygments_lexer": "ipython3",
   "version": "3.5.2"
  }
 },
 "nbformat": 4,
 "nbformat_minor": 2
}
