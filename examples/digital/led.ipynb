{
 "cells": [
  {
   "cell_type": "markdown",
   "metadata": {},
   "source": [
    "# Drive LEDs\n",
    "\n",
    "This example shows how to control LEDs on a Red Pitaya board."
   ]
  },
  {
   "cell_type": "markdown",
   "metadata": {},
   "source": [
    "![led_blink](../img/LED-blink.gif \"Blinking LED on Red Pitaya.\")"
   ]
  },
  {
   "cell_type": "markdown",
   "metadata": {},
   "source": [
    "## Libraries and FPGA image\n",
    "\n",
    "The first thing we need to do is import the *time*, *rp* (Red Pitaya), and *rp_overlay* libraries.\n",
    "Then, we load the *v0.94* FPGA image into the Xilinx Zynq 7010 SoC and finally initialize the Red Pitaya.\n",
    "\n",
    "We will do this by clicking on the following cell to select it and pressing the run button (⏵) above or the key combination *Shift+Enter*."
   ]
  },
  {
   "cell_type": "code",
   "execution_count": null,
   "metadata": {},
   "outputs": [],
   "source": [
    "import time\n",
    "from rp_overlay import overlay\n",
    "import rp\n",
    "\n",
    "fpga = overlay()\n",
    "rp.rp_Init()"
   ]
  },
  {
   "cell_type": "markdown",
   "metadata": {},
   "source": [
    "## Macros\n",
    "Throughout this tutorial we will mention macros multiple times. Here is a complete list of digital macros that will come in handy when customising this notebook. The marcos are a part of the **rp** library.\n",
    "\n",
    "- **States** - RP_LOW, RP_HIGH\n",
    "- **LEDs** - RP_LED0, RP_LED1, ..., RP_LED7"
   ]
  },
  {
   "cell_type": "markdown",
   "metadata": {},
   "source": [
    "## LEDs"
   ]
  },
  {
   "cell_type": "markdown",
   "metadata": {},
   "source": [
    "There are eight orange LEDs on the Red Pitaya board. We need to tell Python which LED we want to control. Each bit corresponds to an LED; 1<sup>st</sup> bit (*LSB*) to *LED0*, 2<sup>nd</sup> bit to *LED1*, ..., and 8<sup>th</sup> (*MSB*) to *LED7*. If a specific bit is set to 1 (*HIGH*), the LED is turned *on*. Otherwise (the bit is 0 (*LOW*)), the LED is turned *off*. To configure the LED, we can use one of the following functions:\n",
    "- **rp_LEDSetState(8-bit_state)**\n",
    "\n",
    "Alternatively, use LED macros to turn *on*/*off* a specific LED:\n",
    "- **rp_DpinSetState(led_macro, led_state)**\n",
    "\n",
    "Here are examples of how to turn *on LED1*."
   ]
  },
  {
   "cell_type": "code",
   "execution_count": null,
   "metadata": {
    "collapsed": true,
    "jupyter": {
     "outputs_hidden": true
    }
   },
   "outputs": [],
   "source": [
    "led1 = 0b00000010\n",
    "rp.rp_LEDSetState(led1)"
   ]
  },
  {
   "cell_type": "markdown",
   "metadata": {},
   "source": [
    "Using macros:"
   ]
  },
  {
   "cell_type": "code",
   "execution_count": null,
   "metadata": {},
   "outputs": [],
   "source": [
    "rp.rp_DpinSetState(rp.RP_LED1, rp.RP_HIGH)"
   ]
  },
  {
   "cell_type": "markdown",
   "metadata": {},
   "source": [
    "To read the LED states use the following functions:\n",
    "- **rp_LEDGetState()**\n",
    "- **rp_DpinGetState(led_macro)**\n",
    "\n",
    "When reading the LED states with the first function, we must extract a specific bit. When checking if the LED is *on* we are searching for a result greater than 0 (or comparing it to power of 2). Here is an example:"
   ]
  },
  {
   "cell_type": "code",
   "execution_count": null,
   "metadata": {},
   "outputs": [],
   "source": [
    "led_values = rp.rp_LEDGetState()[1]           # Reading state of all LEDs\n",
    "print(f\"LED states: {led_values}\")\n",
    "\n",
    "led1_state = led_values & led1          # Extracting the 2nd bit\n",
    "print(f\"LED1 state: {led1_state}\")\n",
    "\n",
    "if led1_state > 0:                      # or led1_state == pow(2,1)\n",
    "    print(\"LED1 ON\")\n",
    "else:\n",
    "    print(\"LED1 OFF\")"
   ]
  },
  {
   "cell_type": "markdown",
   "metadata": {},
   "source": [
    "Using macros:"
   ]
  },
  {
   "cell_type": "code",
   "execution_count": null,
   "metadata": {},
   "outputs": [],
   "source": [
    "led1_state = rp.rp_DpinGetState(rp.RP_LED1)[1]\n",
    "print(f\"LED1 state: {led1_state}\")"
   ]
  },
  {
   "cell_type": "markdown",
   "metadata": {},
   "source": [
    "To turn all LEDs *off* execute the following cell."
   ]
  },
  {
   "cell_type": "code",
   "execution_count": null,
   "metadata": {
    "collapsed": true,
    "jupyter": {
     "outputs_hidden": true
    }
   },
   "outputs": [],
   "source": [
    "rp.rp_LEDSetState(0)"
   ]
  },
  {
   "cell_type": "markdown",
   "metadata": {},
   "source": [
    "Alternatively, all LEDs can be turned *off* one by one using macros."
   ]
  },
  {
   "cell_type": "markdown",
   "metadata": {},
   "source": [
    "## Blink LED\n",
    "\n",
    "To make an LED blink, we need to write a loop turning the LED *on* and *off*. We will use the *time* library so we can slow down the execution of the cell so we can see the LED blinking."
   ]
  },
  {
   "cell_type": "markdown",
   "metadata": {},
   "source": [
    " 1. Turn the LED *on* and *off* 10 times every half a second."
   ]
  },
  {
   "cell_type": "code",
   "execution_count": null,
   "metadata": {
    "collapsed": true,
    "jupyter": {
     "outputs_hidden": true
    }
   },
   "outputs": [],
   "source": [
    "for i in range(10):\n",
    "    rp.rp_LEDSetState(led1)\n",
    "    time.sleep(0.5)\n",
    "    rp.rp_LEDSetState(0)\n",
    "    time.sleep(0.5)"
   ]
  },
  {
   "cell_type": "code",
   "execution_count": null,
   "metadata": {},
   "outputs": [],
   "source": [
    "for i in range(10):\n",
    "    rp.rp_DpinSetState(rp.RP_LED1, rp.RP_HIGH)\n",
    "    time.sleep(0.5)\n",
    "    rp.rp_DpinSetState(rp.RP_LED1, rp.RP_LOW)\n",
    "    time.sleep(0.5)"
   ]
  },
  {
   "cell_type": "markdown",
   "metadata": {},
   "source": [
    "Finaly, at the end of the program, we should always release the used resources. Execute the following cell."
   ]
  },
  {
   "cell_type": "code",
   "execution_count": null,
   "metadata": {
    "collapsed": true,
    "jupyter": {
     "outputs_hidden": true
    }
   },
   "outputs": [],
   "source": [
    "rp.rp_Release()"
   ]
  },
  {
   "cell_type": "markdown",
   "metadata": {},
   "source": [
    "### Note\n",
    "All Python API functions internally call corresponding C functions. Therefore, they always return an integer value depending on their successful execution (**0 - success**, **!=0 - error**). "
   ]
  }
 ],
 "metadata": {
  "kernelspec": {
   "display_name": "Python 3 (ipykernel)",
   "language": "python",
   "name": "python3"
  },
  "language_info": {
   "codemirror_mode": {
    "name": "ipython",
    "version": 3
   },
   "file_extension": ".py",
   "mimetype": "text/x-python",
   "name": "python",
   "nbconvert_exporter": "python",
   "pygments_lexer": "ipython3",
   "version": "3.10.12"
  }
 },
 "nbformat": 4,
 "nbformat_minor": 4
}
