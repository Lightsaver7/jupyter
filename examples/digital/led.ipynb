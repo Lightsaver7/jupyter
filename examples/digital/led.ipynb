{
 "cells": [
  {
   "cell_type": "markdown",
   "metadata": {},
   "source": [
    "# Drive LEDs\n",
    "\n",
    "This example shows how to control LEDs on a Red Pitaya board."
   ]
  },
  {
   "cell_type": "markdown",
   "metadata": {},
   "source": [
    "![alt text](img/LED-blink.gif \"Blinking LED on Red Pitaya.\")"
   ]
  },
  {
   "cell_type": "markdown",
   "metadata": {},
   "source": [
    "## Overlay\n",
    "\n",
    "The first thing we will do is import the Red Pitaya and time libraries as well as initialize the Red Pitaya.\n",
    "\n",
    "We will do this by clicking on the following cell to select it and pressing the run button (⏵) above or by pressing the key combination *Shift+Enter*."
   ]
  },
  {
   "cell_type": "code",
   "execution_count": null,
   "metadata": {},
   "outputs": [],
   "source": [
    "import rp\n",
    "import time\n",
    "\n",
    "rp.rp_Init()"
   ]
  },
  {
   "cell_type": "markdown",
   "metadata": {},
   "source": [
    "There are 8 user-controllable LEDs on board, so we need to tell Python which LED we want to control. In the next line, we turn ON the 2<sup>nd</sup> LED."
   ]
  },
  {
   "cell_type": "code",
   "execution_count": null,
   "metadata": {
    "collapsed": true,
    "jupyter": {
     "outputs_hidden": true
    }
   },
   "outputs": [],
   "source": [
    "led2 = 0x02    # 8 controllable LEDs, 1-bit per LED\n",
    "rp.rp_LEDSetState(led2)"
   ]
  },
  {
   "cell_type": "markdown",
   "metadata": {},
   "source": [
    "To turn all LEDs *off* execute the following cell."
   ]
  },
  {
   "cell_type": "code",
   "execution_count": null,
   "metadata": {
    "collapsed": true,
    "jupyter": {
     "outputs_hidden": true
    }
   },
   "outputs": [],
   "source": [
    "rp.rp_LEDSetState(0)"
   ]
  },
  {
   "cell_type": "markdown",
   "metadata": {},
   "source": [
    "## Blink LED\n",
    "\n",
    "To make the LED blink we will need to write a loop that will turn the LED on and off and we will use the Time library so we can slow down the execution of the cell so we can see the LED turn on and off."
   ]
  },
  {
   "cell_type": "markdown",
   "metadata": {},
   "source": [
    " 1. Turn the LED on and off 10 times every half a second."
   ]
  },
  {
   "cell_type": "code",
   "execution_count": null,
   "metadata": {
    "collapsed": true,
    "jupyter": {
     "outputs_hidden": true
    }
   },
   "outputs": [],
   "source": [
    "for _ in range(10):\n",
    "    rp.rp_LEDSetState(led2)\n",
    "    time.sleep(0.5)\n",
    "    rp.rp_LEDSetState(0)\n",
    "    time.sleep(0.5)"
   ]
  },
  {
   "cell_type": "markdown",
   "metadata": {},
   "source": [
    "To release Red Pitaya resources execute the following cell."
   ]
  },
  {
   "cell_type": "code",
   "execution_count": null,
   "metadata": {
    "collapsed": true,
    "jupyter": {
     "outputs_hidden": true
    }
   },
   "outputs": [],
   "source": [
    "rp.rp_Release()"
   ]
  }
 ],
 "metadata": {
  "kernelspec": {
   "display_name": "Python 3 (ipykernel)",
   "language": "python",
   "name": "python3"
  },
  "language_info": {
   "codemirror_mode": {
    "name": "ipython",
    "version": 3
   },
   "file_extension": ".py",
   "mimetype": "text/x-python",
   "name": "python",
   "nbconvert_exporter": "python",
   "pygments_lexer": "ipython3",
   "version": "3.10.12"
  }
 },
 "nbformat": 4,
 "nbformat_minor": 4
}
