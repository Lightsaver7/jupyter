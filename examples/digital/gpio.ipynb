{
 "cells": [
  {
   "cell_type": "markdown",
   "metadata": {},
   "source": [
    "# GPIO\n",
    "\n",
    "This example shows how to control GPIOs on the STEMlab board. There are 16 GPIO pins separated into two colums P and N, each with 8 digital pins, marked DIO**n**_**x**. Where **n** denotes pin number and **x** denotes pin column.\n",
    "\n",
    "![alt text](../img/RedPitaya_pinout.jpg \"STEMlab extention connector.\")"
   ]
  },
  {
   "cell_type": "markdown",
   "metadata": {},
   "source": [
    "## Libraries\n",
    "As with the [LED](led.ipynb) example the first thing we will do is import the *rp* (Red Pitaya) library and initialize the Red Pitaya."
   ]
  },
  {
   "cell_type": "code",
   "execution_count": null,
   "metadata": {
    "collapsed": true
   },
   "outputs": [],
   "source": [
    "import rp\n",
    "\n",
    "rp.rp_Init()"
   ]
  },
  {
   "cell_type": "markdown",
   "metadata": {},
   "source": [
    "## Macros\n",
    "Throughout this tutorial we will mention macros multiple times. Here is a complete list of digital macros that will come in handy when customising this notebook. The marcos are a part of the **rp** library.\n",
    "\n",
    "- **States** - RP_LOW, RP_HIGH\n",
    "- **Directions** - RP_IN, RP_OUT\n",
    "- **LEDs** - RP_LED0, RP_LED1, ..., RP_LED7\n",
    "- **DIOx_P** - RP_DIO0_P, RP_DIO1_P, ..., RP_DIO7_P &emsp;&emsp; *# Goes up to 9 on SDRlab and STEMlab 4-Input*\n",
    "- **DIOx_N** - RP_DIO0_N, RP_DIO1_N, ..., RP_DIO7_N &emsp;&thinsp; *# Goes up to 9 on SDRlab and STEMlab 4-Input*"
   ]
  },
  {
   "cell_type": "markdown",
   "metadata": {},
   "source": [
    "## Setting up a channel\n",
    "\n",
    "### Setting a direction\n",
    "First, you must specify the direction of the pin as either Input (0) or Output (1). Each bit corresponds to a particular GPIO pin. For example, pin 0 is described by the LSB. Depending on which column the pin is located in, use one of the following two functions.\n",
    "- **rp_GPIOnSetDirection(8-bit_state)**\n",
    "- **rp_GPIOpSetDirection(8-bit_state)**\n",
    "\n",
    "The second option is to use the pin macros to set the direction of the pin:\n",
    "- **rp_DpinSetDirection(digital_pin_macro, direction)**\n",
    "\n",
    "### Reading a direction\n",
    "To get the current direction of all pins, use the following functions:\n",
    "- **rp_GPIOnGetDirection()**\n",
    "- **rp_GPIOpGetDirection()**\n",
    "\n",
    "Using macros:\n",
    "- **rp_DpinGetDirection(digital_pin_macro)**\n",
    "\n",
    "### Reseting digital pins\n",
    "To reset all digital pins to their default state (direction inputs, output state 0, LEDs turned *off*) use:\n",
    "- **rp_DpinReset()**"
   ]
  },
  {
   "cell_type": "markdown",
   "metadata": {},
   "source": [
    "For example, lets set digital pins DIO0_N and DIO2_N as inputs, and DIO1_P and DIO3_P as outputs:"
   ]
  },
  {
   "cell_type": "code",
   "execution_count": null,
   "metadata": {},
   "outputs": [],
   "source": [
    "rp.rp_GPIOpSetDirection(0b00001010)     # DIO1_P and DIO3_P outputs\n",
    "rp.rp_GPIOnSetDirection(0b00000000)     # All pins inputs"
   ]
  },
  {
   "cell_type": "markdown",
   "metadata": {},
   "source": [
    "Using macros, the code looks like this:"
   ]
  },
  {
   "cell_type": "code",
   "execution_count": null,
   "metadata": {},
   "outputs": [],
   "source": [
    "rp.rp_DpinSetDirection(rp.RP_DIO1_P, rp.RP_OUT)\n",
    "rp.rp_DpinSetDirection(rp.RP_DIO3_P, rp.RP_OUT)\n",
    "rp.rp_DpinSetDirection(rp.RP_DIO0_N, rp.RP_IN)\n",
    "rp.rp_DpinSetDirection(rp.RP_DIO2_N, rp.RP_IN)"
   ]
  },
  {
   "cell_type": "markdown",
   "metadata": {},
   "source": [
    "Here are two examples of reading pin directions:"
   ]
  },
  {
   "cell_type": "code",
   "execution_count": null,
   "metadata": {},
   "outputs": [],
   "source": [
    "print(f\"Column P directions: {rp.rp_GPIOpGetDirection()[1]:>08b}\")\n",
    "print(f\"DIO0_P direction: {rp.rp_DpinGetDirection(rp.RP_DIO0_P)[1]}\")"
   ]
  },
  {
   "cell_type": "markdown",
   "metadata": {},
   "source": [
    "## Inputs\n",
    "\n",
    "To read the input value of GPIO pins use one of the following functions:\n",
    "- **rp_GPIOnGetState()** &emsp; *# Each returned bit corresponds to a DIOx_N pin*\n",
    "- **rp_GPIOpGetState()** &emsp; *# Each returned bit corresponds to a DIOx_P pin*\n",
    "\n",
    "or use Macros:\n",
    "- **rp_DpinGetState(digital_pin_macro)**"
   ]
  },
  {
   "cell_type": "markdown",
   "metadata": {},
   "source": [
    "### Example reading DIO2_N"
   ]
  },
  {
   "cell_type": "markdown",
   "metadata": {},
   "source": [
    "When reading the value from the whole column, we can extract a specific pin by performing a bitwise operation"
   ]
  },
  {
   "cell_type": "code",
   "execution_count": null,
   "metadata": {
    "collapsed": true
   },
   "outputs": [],
   "source": [
    "print(f\"DIO2_N state: {int(rp.rp_GPIOnGetState()[1]) & 0b00000100:>08b}\")"
   ]
  },
  {
   "cell_type": "markdown",
   "metadata": {},
   "source": [
    "In the first line, the bits are unshifted, so we must be aware that a non-zero value means that the wanted pin is HIGH (for example, extracting the 2nd bit means that if the returned value is 4, the pin state is high). For reading multiple values at once, some calculations are in order.\n",
    "\n",
    "With macros, we do not have to perform the extra step, but to read multiple pins, the function has to be called multiple times."
   ]
  },
  {
   "cell_type": "code",
   "execution_count": null,
   "metadata": {},
   "outputs": [],
   "source": [
    "print(f\"DIO2_N state: {int(rp.rp_DpinGetState(rp.RP_DIO2_N)[1])}\")\n",
    "print(f\"DIO0_N state: {int(rp.rp_DpinGetState(rp.RP_DIO0_N)[1])}\")"
   ]
  },
  {
   "cell_type": "markdown",
   "metadata": {},
   "source": [
    "## Outputs\n",
    "\n",
    "To set the output of GPIO pins use one of the following functions:\n",
    "- **rp_GPIOnSetState(8-bit_value)**\n",
    "- **rp_GPIOpSetState(8-bit_value)**\n",
    "\n",
    "or use Macros:\n",
    "- **rp_DpinSetState(digital_pin_macro, digital_state)**"
   ]
  },
  {
   "cell_type": "markdown",
   "metadata": {},
   "source": [
    "### Example writing DIO1_P"
   ]
  },
  {
   "cell_type": "code",
   "execution_count": null,
   "metadata": {
    "collapsed": true
   },
   "outputs": [],
   "source": [
    "rp.rp_GPIOpSetState(0b00000010)"
   ]
  },
  {
   "cell_type": "markdown",
   "metadata": {},
   "source": [
    "or using Macros"
   ]
  },
  {
   "cell_type": "code",
   "execution_count": null,
   "metadata": {},
   "outputs": [],
   "source": [
    "rp.rp_DpinSetState(rp.RP_DIO1_P, rp.RP_HIGH)"
   ]
  },
  {
   "cell_type": "markdown",
   "metadata": {},
   "source": [
    "Finaly, at the end of the program, we should always release the used resources. Execute the following cell."
   ]
  },
  {
   "cell_type": "code",
   "execution_count": null,
   "metadata": {},
   "outputs": [],
   "source": [
    "rp.rp_Release()"
   ]
  },
  {
   "cell_type": "markdown",
   "metadata": {},
   "source": [
    "### Note\n",
    "All Python API functions internally call corresponding C functions. Therefore, they always return an integer value depending on their successful execution (**0 - success**, **!=0 - error**). "
   ]
  }
 ],
 "metadata": {
  "kernelspec": {
   "display_name": "Python 3",
   "language": "python",
   "name": "python3"
  },
  "language_info": {
   "codemirror_mode": {
    "name": "ipython",
    "version": 3
   },
   "file_extension": ".py",
   "mimetype": "text/x-python",
   "name": "python",
   "nbconvert_exporter": "python",
   "pygments_lexer": "ipython3",
   "version": "3.5.2"
  }
 },
 "nbformat": 4,
 "nbformat_minor": 2
}
