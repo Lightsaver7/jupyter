{
 "cells": [
  {
   "cell_type": "markdown",
   "id": "de4c4d1c-d010-4f1e-b32c-8fdc1f3da56d",
   "metadata": {
    "collapsed": true,
    "jupyter": {
     "outputs_hidden": true
    }
   },
   "source": [
    "## Welcome to Jupyter notebook on STEMlab\n",
    "\n",
    "Jupyter notebooks contain Python code which provides access to STEMlab hardware.\n",
    "\n",
    "A basic Python tutorial [A Whirlwind Tour of Python](../WhirlwindTourOfPython/Index.ipynb) is provided (copied [from Jake Vanderplas on GitHub](https://github.com/jakevdp/WhirlwindTourOfPython)).\n",
    "\n",
    "To execute a cell click on it to change focus, and press the run button (⏵) above or press the key combination `Shift+Enter`."
   ]
  },
  {
   "cell_type": "markdown",
   "id": "9d0a837a-18e9-4ddd-89af-1be4b46d2160",
   "metadata": {},
   "source": [
    "### SCPI Examples:\n",
    "1. **Digital:**\n",
    "    1. [Drive LEDs](examples/digital/led.ipynb)\n",
    "    2. [Control GPIOs](examples/digital/gpio.ipynb)\n",
    "2. **Analog:**\n",
    "    1. [Read slow analog I/Os](examples/analog/analog_input.ipynb)\n",
    "    2. [Write slow analog I/Os](examples/analog/analog_output.ipynb)\n",
    "    3. [Signal generation](examples/analog/analog_signal_generator.ipynb)\n",
    "3. **Generating signals at RF outputs:**\n",
    "    1. [Generate periodic sine wave](examples/generation.gen_sine_signal.ipynb)\n",
    "    2. [Generate periodic arbitrary signal](examples/generation/gen_arbitrary_signal.ipynb)\n",
    "    3. [Generate two synchronous signals](examples/generation/gen_sync_two_channel.ipynb)\n",
    "    4. [Generate burst signal](examples/generation/gen_bursts.ipynb)\n",
    "4. **Acquiring signals at RF inputs:**\n",
    "    1. [Instant signal acquisition](examples/acquisition/osc_trigger_forced.ipynb)\n",
    "    2. [Triggering with threshold on channel](examples/acquisition/osc_trigger_level.ipynb)\n",
    "    3. [Acquire signals on both inputs](examples/acquisition/osc_sync_two_channel.ipynb)\n",
    "5. **Generating and Acquiring signals at RF inputs/outputs:**\n",
    "    1. [Synchronized signal generation and acquisition](examples/acquisition_generation/osc_sync_with_gen.ipynb)\n",
    "6. **Multi-board signal acquisition and generation (Under Construction):**\n",
    "    1. [Daisy chain generation and acquisition]\n",
    "    2. [Synchronised Click Shield Generation and Acquisition]\n",
    "7. **Digital communication interfaces (Under construction):**\n",
    "    1. *I2C:*\n",
    "\n",
    "    2. *SPI:*\n",
    "\n",
    "    3. *UART:*\n",
    "\n",
    "\n",
    "### System Tools (Under construction):\n",
    "1. [Hardware ID](examples/system_tool/hwid.ipynb)\n",
    "2. [Calibration](examples/system_tool/calibration.ipynb)\n",
    "\n",
    "\n",
    "### Use Case Examples\n",
    "1. **Sensors:**\n",
    "    1. [Home heating automation](examples/sensor/home_automation.ipynb)\n",
    "    2. [Temperature sensor (GROVE sensors)](examples/sensor/exam_temp.ipynb)\n",
    "2. **Other (Under Construction):**\n",
    "    1. [Cable Length measurement using TDR](examples/other/cable_length.ipynb)\n",
    "\n",
    "\n",
    "### Click Shield Examples\n",
    "1. [Click Board Examples](examples/click_shield_examples/click_board_examples/click_board_examples.ipynb)\n",
    "2. [Synchronised Click Shield Generation and Acquisition]() **Under Construction**"
   ]
  },
  {
   "cell_type": "code",
   "execution_count": null,
   "id": "eeda4333-00c7-4253-b6a7-df91300b1a85",
   "metadata": {},
   "outputs": [],
   "source": []
  }
 ],
 "metadata": {
  "kernelspec": {
   "display_name": "Python 3 (ipykernel)",
   "language": "python",
   "name": "python3"
  },
  "language_info": {
   "codemirror_mode": {
    "name": "ipython",
    "version": 3
   },
   "file_extension": ".py",
   "mimetype": "text/x-python",
   "name": "python",
   "nbconvert_exporter": "python",
   "pygments_lexer": "ipython3",
   "version": "3.10.12"
  }
 },
 "nbformat": 4,
 "nbformat_minor": 5
}
