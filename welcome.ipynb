{
 "cells": [
  {
   "cell_type": "markdown",
   "id": "de4c4d1c-d010-4f1e-b32c-8fdc1f3da56d",
   "metadata": {
    "collapsed": true,
    "jupyter": {
     "outputs_hidden": true
    }
   },
   "source": [
    "## Welcome to the Red Pitaya JupyterLab tutorial\n",
    "\n",
    "JupyterLab is the latest web-based interactive development environment for notebooks, code, and data. Its flexible interface allows users to configure and arrange workflows in data science, scientific computing, computational journalism, and machine learning. A modular design invites extensions to expand and enrich functionality. Read more about [JupyterLab](https://jupyter.org/).\n",
    "\n",
    "JupyterLab is available on Red Pitaya with 2.00-23 OS version or higher.\n",
    "\n",
    "With the upgrade from Jupyter Notebook to JupyterLab, we at Red Pitaya also made a big change: No more obscure documentation and spending hours searching for resources - from now on, JupyterLab uses the Python API commands. Since we now have *One OS to rule all Red Pitaya boards*, the decision has fallen to use the same commands that control your Red Pitaya board across all platforms. \n",
    "SCPI commands, once received by the Red Pitaya, are interpreted, and an appropriate C API function is executed. Python API commands, and by extension JupyterLab commands, are also just a mask for C API functions. This means the following:\n",
    "- All commands across all platforms are the same\n",
    "- The functionality of C API commands is expanded to all other programming languages and platforms.\n",
    "\n",
    "Enough of the chit-chat! Let's go straight to the fun part!\n",
    "\n",
    "In case you are new to Python, here is the [Official Python 3 tutorial](https://docs.python.org/3/tutorial/index.html).\n",
    "You also can check out the [Whirlwind Python tutorial by Jake Vanderplas on GitHub](https://github.com/jakevdp/WhirlwindTourOfPython), but please note that the Python syntax is outdated.\n",
    "\n",
    "To execute a cell in JupyterLab, click on it to change focus, and press the run button (⏵) above or press the key combination `Shift+Enter`.\n",
    "\n",
    "### <font color='red'>Note</font> \n",
    "We do not recommend running more than 10 JupyterLab kernels simultaneously, as the board can run out of memory and force the shutdown of the JupyterLab application.\n",
    "Red Pitaya remembers which Notebooks were opened the last time JupyterLab was used, so exiting the application without closing most of the Notebooks can lead to very long JupyterLab loading times. Therefore, it is inadvisable to exit JupyterLab with more than 5 tabs (Notebooks) open.\n",
    "\n"
   ]
  },
  {
   "cell_type": "markdown",
   "id": "9d0a837a-18e9-4ddd-89af-1be4b46d2160",
   "metadata": {},
   "source": [
    "### Jupyter API Examples:\n",
    "\n",
    "1. **Digital:**\n",
    "    1. [LED Blink](examples/digital/led.ipynb)\n",
    "    2. [Control GPIOs](examples/digital/gpio.ipynb)\n",
    "2. **Analog:**\n",
    "    1. [Read slow analog I/Os](examples/analog/analog_input.ipynb)\n",
    "    2. [Set slow analog I/Os](examples/analog/analog_output.ipynb)\n",
    "3. **Generating signals at RF outputs:**\n",
    "    1. [Generate continuous signal](examples/generation/gen_continuous_signal.ipynb)\n",
    "    2. [Generate signal pulses](examples/generation/gen_bursts.ipynb)\n",
    "    3. [Generate a signal on external trigger](examples/generation/gen_ext_trigger.ipynb)\n",
    "    4. [Custom waveform signal generation](examples/generation/gen_arbitrary_signal.ipynb)\n",
    "    5. [Generate two synchronous signals](examples/generation/gen_sync_two_channel.ipynb)\n",
    "    6. [Generate two burst asynced signals](examples/generation/gen_burst_async_signals.ipynb)\n",
    "4. **Acquiring signals at RF inputs:**\n",
    "    1. [Triggering with a threshold on channel](examples/acquisition/acq_trigger_level.ipynb)\n",
    "    2. [Instant signal acquisition](examples/acquisition/acq_instant.ipynb)\n",
    "    3. [Triggering on external trigger](examples/acquisition/acq_ext_trig.ipynb)\n",
    "5. **Generating and Acquiring signals at RF inputs/outputs:**\n",
    "    1. [Synchronised one-pulse signal generation and acquisition](examples/acquisition_generation/acq_gen_synced_pulse.ipynb)\n",
    "6. **Multi-board signal acquisition and generation:**\n",
    "    1. [Daisy chain generation and acquisition](examples/multiboard_sync/daisy_chain_1.ipynb)\n",
    "    2. [Synchronised Click Shield generation and acquisition](examples/multiboard_sync/click_shield_1.ipynb)\n",
    "7. **Deep Memory Acquisition:**\n",
    "    1. [Deep Memory Acquisition](examples/dma/dma.ipynb)\n",
    "8. **Digital communication interfaces (Under construction):**\n",
    "    1. *I2C:*\n",
    "\n",
    "    2. *SPI:*\n",
    "\n",
    "    3. *UART:*\n",
    "\n",
    "### System Tools:\n",
    "1. [Hardware ID](examples/hardware/hwid.ipynb)\n",
    "2. [Calibration](examples/hardware/calibration.ipynb)\n",
    "\n",
    "### Click Shield Examples\n",
    "1. [Click Board Examples](examples/click_shield_examples/click_board_examples/click_board_examples.ipynb)\n",
    "\n",
    "\n",
    "## Outdated\n",
    "The code here is outdated and must be updated to work with the Red Pitaya JupyterLab. The examples here will be brought up-to-date in the future.\n",
    "\n",
    "1. **Sensor:**\n",
    "    1. [Home heating automation](examples/outdated/home_automation.ipynb)\n",
    "    2. [Temperature sensor (GROVE sensors)](examples/outdated/exam_temp.ipynb)\n",
    "2. **Other:**\n",
    "    1. [Cable Length measurement using TDR](examples/outdated/cable_length.ipynb)"
   ]
  }
 ],
 "metadata": {
  "kernelspec": {
   "display_name": "Python 3 (ipykernel)",
   "language": "python",
   "name": "python3"
  },
  "language_info": {
   "codemirror_mode": {
    "name": "ipython",
    "version": 3
   },
   "file_extension": ".py",
   "mimetype": "text/x-python",
   "name": "python",
   "nbconvert_exporter": "python",
   "pygments_lexer": "ipython3",
   "version": "3.10.12"
  }
 },
 "nbformat": 4,
 "nbformat_minor": 5
}
